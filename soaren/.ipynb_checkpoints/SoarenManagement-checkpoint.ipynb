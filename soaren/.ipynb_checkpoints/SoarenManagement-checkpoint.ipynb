{
 "cells": [
  {
   "cell_type": "code",
   "execution_count": 18,
   "metadata": {},
   "outputs": [],
   "source": [
    "import pandas as pd\n",
    "import numpy as np"
   ]
  },
  {
   "cell_type": "code",
   "execution_count": 19,
   "metadata": {},
   "outputs": [],
   "source": [
    "# load data\n",
    "bids = pd.read_csv('C:/Users/saika/Desktop/SoarenManagemenData.csv')"
   ]
  },
  {
   "cell_type": "code",
   "execution_count": 20,
   "metadata": {},
   "outputs": [
    {
     "data": {
      "text/html": [
       "<div>\n",
       "<style scoped>\n",
       "    .dataframe tbody tr th:only-of-type {\n",
       "        vertical-align: middle;\n",
       "    }\n",
       "\n",
       "    .dataframe tbody tr th {\n",
       "        vertical-align: top;\n",
       "    }\n",
       "\n",
       "    .dataframe thead th {\n",
       "        text-align: right;\n",
       "    }\n",
       "</style>\n",
       "<table border=\"1\" class=\"dataframe\">\n",
       "  <thead>\n",
       "    <tr style=\"text-align: right;\">\n",
       "      <th></th>\n",
       "      <th>id</th>\n",
       "      <th>BidPrice</th>\n",
       "      <th>AcceptedBid</th>\n",
       "      <th>ExpectedRevenue</th>\n",
       "      <th>ExpectedConversion</th>\n",
       "    </tr>\n",
       "  </thead>\n",
       "  <tbody>\n",
       "    <tr>\n",
       "      <th>0</th>\n",
       "      <td>58995330</td>\n",
       "      <td>NaN</td>\n",
       "      <td>0</td>\n",
       "      <td>-106.80</td>\n",
       "      <td>0.336</td>\n",
       "    </tr>\n",
       "    <tr>\n",
       "      <th>1</th>\n",
       "      <td>58995358</td>\n",
       "      <td>NaN</td>\n",
       "      <td>0</td>\n",
       "      <td>-43.12</td>\n",
       "      <td>0.219</td>\n",
       "    </tr>\n",
       "    <tr>\n",
       "      <th>2</th>\n",
       "      <td>58995397</td>\n",
       "      <td>NaN</td>\n",
       "      <td>0</td>\n",
       "      <td>-90.56</td>\n",
       "      <td>0.332</td>\n",
       "    </tr>\n",
       "    <tr>\n",
       "      <th>3</th>\n",
       "      <td>58995410</td>\n",
       "      <td>NaN</td>\n",
       "      <td>0</td>\n",
       "      <td>-82.08</td>\n",
       "      <td>0.308</td>\n",
       "    </tr>\n",
       "    <tr>\n",
       "      <th>4</th>\n",
       "      <td>58995635</td>\n",
       "      <td>NaN</td>\n",
       "      <td>0</td>\n",
       "      <td>94.88</td>\n",
       "      <td>0.321</td>\n",
       "    </tr>\n",
       "    <tr>\n",
       "      <th>5</th>\n",
       "      <td>58995654</td>\n",
       "      <td>NaN</td>\n",
       "      <td>0</td>\n",
       "      <td>19.68</td>\n",
       "      <td>0.518</td>\n",
       "    </tr>\n",
       "    <tr>\n",
       "      <th>6</th>\n",
       "      <td>58995685</td>\n",
       "      <td>NaN</td>\n",
       "      <td>0</td>\n",
       "      <td>-59.92</td>\n",
       "      <td>0.403</td>\n",
       "    </tr>\n",
       "    <tr>\n",
       "      <th>7</th>\n",
       "      <td>58995772</td>\n",
       "      <td>NaN</td>\n",
       "      <td>0</td>\n",
       "      <td>49.92</td>\n",
       "      <td>0.522</td>\n",
       "    </tr>\n",
       "    <tr>\n",
       "      <th>8</th>\n",
       "      <td>58995792</td>\n",
       "      <td>35.0</td>\n",
       "      <td>0</td>\n",
       "      <td>360.67</td>\n",
       "      <td>0.086</td>\n",
       "    </tr>\n",
       "    <tr>\n",
       "      <th>9</th>\n",
       "      <td>58995977</td>\n",
       "      <td>35.0</td>\n",
       "      <td>1</td>\n",
       "      <td>271.49</td>\n",
       "      <td>0.356</td>\n",
       "    </tr>\n",
       "    <tr>\n",
       "      <th>10</th>\n",
       "      <td>58996071</td>\n",
       "      <td>35.0</td>\n",
       "      <td>1</td>\n",
       "      <td>184.64</td>\n",
       "      <td>0.319</td>\n",
       "    </tr>\n",
       "    <tr>\n",
       "      <th>11</th>\n",
       "      <td>58996117</td>\n",
       "      <td>35.0</td>\n",
       "      <td>0</td>\n",
       "      <td>107.60</td>\n",
       "      <td>0.446</td>\n",
       "    </tr>\n",
       "    <tr>\n",
       "      <th>12</th>\n",
       "      <td>58996178</td>\n",
       "      <td>35.0</td>\n",
       "      <td>1</td>\n",
       "      <td>82.80</td>\n",
       "      <td>0.463</td>\n",
       "    </tr>\n",
       "    <tr>\n",
       "      <th>13</th>\n",
       "      <td>58996190</td>\n",
       "      <td>35.0</td>\n",
       "      <td>1</td>\n",
       "      <td>158.96</td>\n",
       "      <td>0.243</td>\n",
       "    </tr>\n",
       "    <tr>\n",
       "      <th>14</th>\n",
       "      <td>58996194</td>\n",
       "      <td>75.0</td>\n",
       "      <td>1</td>\n",
       "      <td>614.01</td>\n",
       "      <td>0.158</td>\n",
       "    </tr>\n",
       "    <tr>\n",
       "      <th>15</th>\n",
       "      <td>58996207</td>\n",
       "      <td>75.0</td>\n",
       "      <td>1</td>\n",
       "      <td>613.61</td>\n",
       "      <td>0.337</td>\n",
       "    </tr>\n",
       "    <tr>\n",
       "      <th>16</th>\n",
       "      <td>58996231</td>\n",
       "      <td>NaN</td>\n",
       "      <td>0</td>\n",
       "      <td>326.23</td>\n",
       "      <td>0.140</td>\n",
       "    </tr>\n",
       "    <tr>\n",
       "      <th>17</th>\n",
       "      <td>58996247</td>\n",
       "      <td>NaN</td>\n",
       "      <td>0</td>\n",
       "      <td>-129.12</td>\n",
       "      <td>0.214</td>\n",
       "    </tr>\n",
       "    <tr>\n",
       "      <th>18</th>\n",
       "      <td>58996377</td>\n",
       "      <td>NaN</td>\n",
       "      <td>0</td>\n",
       "      <td>44.48</td>\n",
       "      <td>0.531</td>\n",
       "    </tr>\n",
       "    <tr>\n",
       "      <th>19</th>\n",
       "      <td>58996468</td>\n",
       "      <td>NaN</td>\n",
       "      <td>0</td>\n",
       "      <td>-83.92</td>\n",
       "      <td>0.268</td>\n",
       "    </tr>\n",
       "  </tbody>\n",
       "</table>\n",
       "</div>"
      ],
      "text/plain": [
       "          id  BidPrice  AcceptedBid  ExpectedRevenue  ExpectedConversion\n",
       "0   58995330       NaN            0          -106.80               0.336\n",
       "1   58995358       NaN            0           -43.12               0.219\n",
       "2   58995397       NaN            0           -90.56               0.332\n",
       "3   58995410       NaN            0           -82.08               0.308\n",
       "4   58995635       NaN            0            94.88               0.321\n",
       "5   58995654       NaN            0            19.68               0.518\n",
       "6   58995685       NaN            0           -59.92               0.403\n",
       "7   58995772       NaN            0            49.92               0.522\n",
       "8   58995792      35.0            0           360.67               0.086\n",
       "9   58995977      35.0            1           271.49               0.356\n",
       "10  58996071      35.0            1           184.64               0.319\n",
       "11  58996117      35.0            0           107.60               0.446\n",
       "12  58996178      35.0            1            82.80               0.463\n",
       "13  58996190      35.0            1           158.96               0.243\n",
       "14  58996194      75.0            1           614.01               0.158\n",
       "15  58996207      75.0            1           613.61               0.337\n",
       "16  58996231       NaN            0           326.23               0.140\n",
       "17  58996247       NaN            0          -129.12               0.214\n",
       "18  58996377       NaN            0            44.48               0.531\n",
       "19  58996468       NaN            0           -83.92               0.268"
      ]
     },
     "execution_count": 20,
     "metadata": {},
     "output_type": "execute_result"
    }
   ],
   "source": [
    "bids.head(20)"
   ]
  },
  {
   "cell_type": "code",
   "execution_count": 23,
   "metadata": {},
   "outputs": [],
   "source": [
    " bids['BidPrice'].fillna(0, inplace=True)\n",
    "# resetting index \n",
    "#df.reset_index(inplace = True) "
   ]
  },
  {
   "cell_type": "code",
   "execution_count": 25,
   "metadata": {},
   "outputs": [
    {
     "data": {
      "text/html": [
       "<div>\n",
       "<style scoped>\n",
       "    .dataframe tbody tr th:only-of-type {\n",
       "        vertical-align: middle;\n",
       "    }\n",
       "\n",
       "    .dataframe tbody tr th {\n",
       "        vertical-align: top;\n",
       "    }\n",
       "\n",
       "    .dataframe thead th {\n",
       "        text-align: right;\n",
       "    }\n",
       "</style>\n",
       "<table border=\"1\" class=\"dataframe\">\n",
       "  <thead>\n",
       "    <tr style=\"text-align: right;\">\n",
       "      <th></th>\n",
       "      <th>id</th>\n",
       "      <th>BidPrice</th>\n",
       "      <th>AcceptedBid</th>\n",
       "      <th>ExpectedRevenue</th>\n",
       "      <th>ExpectedConversion</th>\n",
       "    </tr>\n",
       "  </thead>\n",
       "  <tbody>\n",
       "    <tr>\n",
       "      <th>0</th>\n",
       "      <td>58995330</td>\n",
       "      <td>0.0</td>\n",
       "      <td>0</td>\n",
       "      <td>-106.80</td>\n",
       "      <td>0.336</td>\n",
       "    </tr>\n",
       "    <tr>\n",
       "      <th>1</th>\n",
       "      <td>58995358</td>\n",
       "      <td>0.0</td>\n",
       "      <td>0</td>\n",
       "      <td>-43.12</td>\n",
       "      <td>0.219</td>\n",
       "    </tr>\n",
       "    <tr>\n",
       "      <th>2</th>\n",
       "      <td>58995397</td>\n",
       "      <td>0.0</td>\n",
       "      <td>0</td>\n",
       "      <td>-90.56</td>\n",
       "      <td>0.332</td>\n",
       "    </tr>\n",
       "    <tr>\n",
       "      <th>3</th>\n",
       "      <td>58995410</td>\n",
       "      <td>0.0</td>\n",
       "      <td>0</td>\n",
       "      <td>-82.08</td>\n",
       "      <td>0.308</td>\n",
       "    </tr>\n",
       "    <tr>\n",
       "      <th>4</th>\n",
       "      <td>58995635</td>\n",
       "      <td>0.0</td>\n",
       "      <td>0</td>\n",
       "      <td>94.88</td>\n",
       "      <td>0.321</td>\n",
       "    </tr>\n",
       "    <tr>\n",
       "      <th>5</th>\n",
       "      <td>58995654</td>\n",
       "      <td>0.0</td>\n",
       "      <td>0</td>\n",
       "      <td>19.68</td>\n",
       "      <td>0.518</td>\n",
       "    </tr>\n",
       "    <tr>\n",
       "      <th>6</th>\n",
       "      <td>58995685</td>\n",
       "      <td>0.0</td>\n",
       "      <td>0</td>\n",
       "      <td>-59.92</td>\n",
       "      <td>0.403</td>\n",
       "    </tr>\n",
       "    <tr>\n",
       "      <th>7</th>\n",
       "      <td>58995772</td>\n",
       "      <td>0.0</td>\n",
       "      <td>0</td>\n",
       "      <td>49.92</td>\n",
       "      <td>0.522</td>\n",
       "    </tr>\n",
       "    <tr>\n",
       "      <th>8</th>\n",
       "      <td>58995792</td>\n",
       "      <td>35.0</td>\n",
       "      <td>0</td>\n",
       "      <td>360.67</td>\n",
       "      <td>0.086</td>\n",
       "    </tr>\n",
       "    <tr>\n",
       "      <th>9</th>\n",
       "      <td>58995977</td>\n",
       "      <td>35.0</td>\n",
       "      <td>1</td>\n",
       "      <td>271.49</td>\n",
       "      <td>0.356</td>\n",
       "    </tr>\n",
       "    <tr>\n",
       "      <th>10</th>\n",
       "      <td>58996071</td>\n",
       "      <td>35.0</td>\n",
       "      <td>1</td>\n",
       "      <td>184.64</td>\n",
       "      <td>0.319</td>\n",
       "    </tr>\n",
       "    <tr>\n",
       "      <th>11</th>\n",
       "      <td>58996117</td>\n",
       "      <td>35.0</td>\n",
       "      <td>0</td>\n",
       "      <td>107.60</td>\n",
       "      <td>0.446</td>\n",
       "    </tr>\n",
       "    <tr>\n",
       "      <th>12</th>\n",
       "      <td>58996178</td>\n",
       "      <td>35.0</td>\n",
       "      <td>1</td>\n",
       "      <td>82.80</td>\n",
       "      <td>0.463</td>\n",
       "    </tr>\n",
       "    <tr>\n",
       "      <th>13</th>\n",
       "      <td>58996190</td>\n",
       "      <td>35.0</td>\n",
       "      <td>1</td>\n",
       "      <td>158.96</td>\n",
       "      <td>0.243</td>\n",
       "    </tr>\n",
       "    <tr>\n",
       "      <th>14</th>\n",
       "      <td>58996194</td>\n",
       "      <td>75.0</td>\n",
       "      <td>1</td>\n",
       "      <td>614.01</td>\n",
       "      <td>0.158</td>\n",
       "    </tr>\n",
       "    <tr>\n",
       "      <th>15</th>\n",
       "      <td>58996207</td>\n",
       "      <td>75.0</td>\n",
       "      <td>1</td>\n",
       "      <td>613.61</td>\n",
       "      <td>0.337</td>\n",
       "    </tr>\n",
       "    <tr>\n",
       "      <th>16</th>\n",
       "      <td>58996231</td>\n",
       "      <td>0.0</td>\n",
       "      <td>0</td>\n",
       "      <td>326.23</td>\n",
       "      <td>0.140</td>\n",
       "    </tr>\n",
       "    <tr>\n",
       "      <th>17</th>\n",
       "      <td>58996247</td>\n",
       "      <td>0.0</td>\n",
       "      <td>0</td>\n",
       "      <td>-129.12</td>\n",
       "      <td>0.214</td>\n",
       "    </tr>\n",
       "    <tr>\n",
       "      <th>18</th>\n",
       "      <td>58996377</td>\n",
       "      <td>0.0</td>\n",
       "      <td>0</td>\n",
       "      <td>44.48</td>\n",
       "      <td>0.531</td>\n",
       "    </tr>\n",
       "    <tr>\n",
       "      <th>19</th>\n",
       "      <td>58996468</td>\n",
       "      <td>0.0</td>\n",
       "      <td>0</td>\n",
       "      <td>-83.92</td>\n",
       "      <td>0.268</td>\n",
       "    </tr>\n",
       "  </tbody>\n",
       "</table>\n",
       "</div>"
      ],
      "text/plain": [
       "          id  BidPrice  AcceptedBid  ExpectedRevenue  ExpectedConversion\n",
       "0   58995330       0.0            0          -106.80               0.336\n",
       "1   58995358       0.0            0           -43.12               0.219\n",
       "2   58995397       0.0            0           -90.56               0.332\n",
       "3   58995410       0.0            0           -82.08               0.308\n",
       "4   58995635       0.0            0            94.88               0.321\n",
       "5   58995654       0.0            0            19.68               0.518\n",
       "6   58995685       0.0            0           -59.92               0.403\n",
       "7   58995772       0.0            0            49.92               0.522\n",
       "8   58995792      35.0            0           360.67               0.086\n",
       "9   58995977      35.0            1           271.49               0.356\n",
       "10  58996071      35.0            1           184.64               0.319\n",
       "11  58996117      35.0            0           107.60               0.446\n",
       "12  58996178      35.0            1            82.80               0.463\n",
       "13  58996190      35.0            1           158.96               0.243\n",
       "14  58996194      75.0            1           614.01               0.158\n",
       "15  58996207      75.0            1           613.61               0.337\n",
       "16  58996231       0.0            0           326.23               0.140\n",
       "17  58996247       0.0            0          -129.12               0.214\n",
       "18  58996377       0.0            0            44.48               0.531\n",
       "19  58996468       0.0            0           -83.92               0.268"
      ]
     },
     "execution_count": 25,
     "metadata": {},
     "output_type": "execute_result"
    }
   ],
   "source": [
    "bids.head(20)"
   ]
  },
  {
   "cell_type": "code",
   "execution_count": 41,
   "metadata": {},
   "outputs": [],
   "source": [
    "df = bids.copy()"
   ]
  },
  {
   "cell_type": "code",
   "execution_count": 42,
   "metadata": {},
   "outputs": [],
   "source": [
    "TotalRev = df.ExpectedRevenue * df.ExpectedConversion\n",
    "\n",
    "df['TotalRev'] = TotalRev.where(df.AcceptedBid == 1, other=0)"
   ]
  },
  {
   "cell_type": "code",
   "execution_count": 43,
   "metadata": {},
   "outputs": [
    {
     "data": {
      "text/html": [
       "<div>\n",
       "<style scoped>\n",
       "    .dataframe tbody tr th:only-of-type {\n",
       "        vertical-align: middle;\n",
       "    }\n",
       "\n",
       "    .dataframe tbody tr th {\n",
       "        vertical-align: top;\n",
       "    }\n",
       "\n",
       "    .dataframe thead th {\n",
       "        text-align: right;\n",
       "    }\n",
       "</style>\n",
       "<table border=\"1\" class=\"dataframe\">\n",
       "  <thead>\n",
       "    <tr style=\"text-align: right;\">\n",
       "      <th></th>\n",
       "      <th>id</th>\n",
       "      <th>BidPrice</th>\n",
       "      <th>AcceptedBid</th>\n",
       "      <th>ExpectedRevenue</th>\n",
       "      <th>ExpectedConversion</th>\n",
       "      <th>TotalRev</th>\n",
       "    </tr>\n",
       "  </thead>\n",
       "  <tbody>\n",
       "    <tr>\n",
       "      <th>0</th>\n",
       "      <td>58995330</td>\n",
       "      <td>0.0</td>\n",
       "      <td>0</td>\n",
       "      <td>-106.80</td>\n",
       "      <td>0.336</td>\n",
       "      <td>0.00000</td>\n",
       "    </tr>\n",
       "    <tr>\n",
       "      <th>1</th>\n",
       "      <td>58995358</td>\n",
       "      <td>0.0</td>\n",
       "      <td>0</td>\n",
       "      <td>-43.12</td>\n",
       "      <td>0.219</td>\n",
       "      <td>0.00000</td>\n",
       "    </tr>\n",
       "    <tr>\n",
       "      <th>2</th>\n",
       "      <td>58995397</td>\n",
       "      <td>0.0</td>\n",
       "      <td>0</td>\n",
       "      <td>-90.56</td>\n",
       "      <td>0.332</td>\n",
       "      <td>0.00000</td>\n",
       "    </tr>\n",
       "    <tr>\n",
       "      <th>3</th>\n",
       "      <td>58995410</td>\n",
       "      <td>0.0</td>\n",
       "      <td>0</td>\n",
       "      <td>-82.08</td>\n",
       "      <td>0.308</td>\n",
       "      <td>0.00000</td>\n",
       "    </tr>\n",
       "    <tr>\n",
       "      <th>4</th>\n",
       "      <td>58995635</td>\n",
       "      <td>0.0</td>\n",
       "      <td>0</td>\n",
       "      <td>94.88</td>\n",
       "      <td>0.321</td>\n",
       "      <td>0.00000</td>\n",
       "    </tr>\n",
       "    <tr>\n",
       "      <th>5</th>\n",
       "      <td>58995654</td>\n",
       "      <td>0.0</td>\n",
       "      <td>0</td>\n",
       "      <td>19.68</td>\n",
       "      <td>0.518</td>\n",
       "      <td>0.00000</td>\n",
       "    </tr>\n",
       "    <tr>\n",
       "      <th>6</th>\n",
       "      <td>58995685</td>\n",
       "      <td>0.0</td>\n",
       "      <td>0</td>\n",
       "      <td>-59.92</td>\n",
       "      <td>0.403</td>\n",
       "      <td>0.00000</td>\n",
       "    </tr>\n",
       "    <tr>\n",
       "      <th>7</th>\n",
       "      <td>58995772</td>\n",
       "      <td>0.0</td>\n",
       "      <td>0</td>\n",
       "      <td>49.92</td>\n",
       "      <td>0.522</td>\n",
       "      <td>0.00000</td>\n",
       "    </tr>\n",
       "    <tr>\n",
       "      <th>8</th>\n",
       "      <td>58995792</td>\n",
       "      <td>35.0</td>\n",
       "      <td>0</td>\n",
       "      <td>360.67</td>\n",
       "      <td>0.086</td>\n",
       "      <td>0.00000</td>\n",
       "    </tr>\n",
       "    <tr>\n",
       "      <th>9</th>\n",
       "      <td>58995977</td>\n",
       "      <td>35.0</td>\n",
       "      <td>1</td>\n",
       "      <td>271.49</td>\n",
       "      <td>0.356</td>\n",
       "      <td>96.65044</td>\n",
       "    </tr>\n",
       "    <tr>\n",
       "      <th>10</th>\n",
       "      <td>58996071</td>\n",
       "      <td>35.0</td>\n",
       "      <td>1</td>\n",
       "      <td>184.64</td>\n",
       "      <td>0.319</td>\n",
       "      <td>58.90016</td>\n",
       "    </tr>\n",
       "    <tr>\n",
       "      <th>11</th>\n",
       "      <td>58996117</td>\n",
       "      <td>35.0</td>\n",
       "      <td>0</td>\n",
       "      <td>107.60</td>\n",
       "      <td>0.446</td>\n",
       "      <td>0.00000</td>\n",
       "    </tr>\n",
       "    <tr>\n",
       "      <th>12</th>\n",
       "      <td>58996178</td>\n",
       "      <td>35.0</td>\n",
       "      <td>1</td>\n",
       "      <td>82.80</td>\n",
       "      <td>0.463</td>\n",
       "      <td>38.33640</td>\n",
       "    </tr>\n",
       "    <tr>\n",
       "      <th>13</th>\n",
       "      <td>58996190</td>\n",
       "      <td>35.0</td>\n",
       "      <td>1</td>\n",
       "      <td>158.96</td>\n",
       "      <td>0.243</td>\n",
       "      <td>38.62728</td>\n",
       "    </tr>\n",
       "    <tr>\n",
       "      <th>14</th>\n",
       "      <td>58996194</td>\n",
       "      <td>75.0</td>\n",
       "      <td>1</td>\n",
       "      <td>614.01</td>\n",
       "      <td>0.158</td>\n",
       "      <td>97.01358</td>\n",
       "    </tr>\n",
       "    <tr>\n",
       "      <th>15</th>\n",
       "      <td>58996207</td>\n",
       "      <td>75.0</td>\n",
       "      <td>1</td>\n",
       "      <td>613.61</td>\n",
       "      <td>0.337</td>\n",
       "      <td>206.78657</td>\n",
       "    </tr>\n",
       "    <tr>\n",
       "      <th>16</th>\n",
       "      <td>58996231</td>\n",
       "      <td>0.0</td>\n",
       "      <td>0</td>\n",
       "      <td>326.23</td>\n",
       "      <td>0.140</td>\n",
       "      <td>0.00000</td>\n",
       "    </tr>\n",
       "    <tr>\n",
       "      <th>17</th>\n",
       "      <td>58996247</td>\n",
       "      <td>0.0</td>\n",
       "      <td>0</td>\n",
       "      <td>-129.12</td>\n",
       "      <td>0.214</td>\n",
       "      <td>0.00000</td>\n",
       "    </tr>\n",
       "    <tr>\n",
       "      <th>18</th>\n",
       "      <td>58996377</td>\n",
       "      <td>0.0</td>\n",
       "      <td>0</td>\n",
       "      <td>44.48</td>\n",
       "      <td>0.531</td>\n",
       "      <td>0.00000</td>\n",
       "    </tr>\n",
       "    <tr>\n",
       "      <th>19</th>\n",
       "      <td>58996468</td>\n",
       "      <td>0.0</td>\n",
       "      <td>0</td>\n",
       "      <td>-83.92</td>\n",
       "      <td>0.268</td>\n",
       "      <td>0.00000</td>\n",
       "    </tr>\n",
       "  </tbody>\n",
       "</table>\n",
       "</div>"
      ],
      "text/plain": [
       "          id  BidPrice  AcceptedBid  ExpectedRevenue  ExpectedConversion  \\\n",
       "0   58995330       0.0            0          -106.80               0.336   \n",
       "1   58995358       0.0            0           -43.12               0.219   \n",
       "2   58995397       0.0            0           -90.56               0.332   \n",
       "3   58995410       0.0            0           -82.08               0.308   \n",
       "4   58995635       0.0            0            94.88               0.321   \n",
       "5   58995654       0.0            0            19.68               0.518   \n",
       "6   58995685       0.0            0           -59.92               0.403   \n",
       "7   58995772       0.0            0            49.92               0.522   \n",
       "8   58995792      35.0            0           360.67               0.086   \n",
       "9   58995977      35.0            1           271.49               0.356   \n",
       "10  58996071      35.0            1           184.64               0.319   \n",
       "11  58996117      35.0            0           107.60               0.446   \n",
       "12  58996178      35.0            1            82.80               0.463   \n",
       "13  58996190      35.0            1           158.96               0.243   \n",
       "14  58996194      75.0            1           614.01               0.158   \n",
       "15  58996207      75.0            1           613.61               0.337   \n",
       "16  58996231       0.0            0           326.23               0.140   \n",
       "17  58996247       0.0            0          -129.12               0.214   \n",
       "18  58996377       0.0            0            44.48               0.531   \n",
       "19  58996468       0.0            0           -83.92               0.268   \n",
       "\n",
       "     TotalRev  \n",
       "0     0.00000  \n",
       "1     0.00000  \n",
       "2     0.00000  \n",
       "3     0.00000  \n",
       "4     0.00000  \n",
       "5     0.00000  \n",
       "6     0.00000  \n",
       "7     0.00000  \n",
       "8     0.00000  \n",
       "9    96.65044  \n",
       "10   58.90016  \n",
       "11    0.00000  \n",
       "12   38.33640  \n",
       "13   38.62728  \n",
       "14   97.01358  \n",
       "15  206.78657  \n",
       "16    0.00000  \n",
       "17    0.00000  \n",
       "18    0.00000  \n",
       "19    0.00000  "
      ]
     },
     "execution_count": 43,
     "metadata": {},
     "output_type": "execute_result"
    }
   ],
   "source": [
    "df.head(20)"
   ]
  },
  {
   "cell_type": "code",
   "execution_count": 37,
   "metadata": {},
   "outputs": [
    {
     "name": "stdout",
     "output_type": "stream",
     "text": [
      "Volume of leads purchased : 16026\n"
     ]
    }
   ],
   "source": [
    "print(\"Volume of leads purchased : \"  + str(np.sum(df.AcceptedBid == 1)))"
   ]
  },
  {
   "cell_type": "code",
   "execution_count": 53,
   "metadata": {},
   "outputs": [],
   "source": [
    "# Note 2 \n",
    "def LeadVolume(Vol):\n",
    "    if 15224 <= Vol <= 16827:\n",
    "        print (\"call center can handle these leads\")\n",
    "    else : \n",
    "        print (\"Volume of leads exceeded, call center cannot handle these leads\")\n",
    "\n"
   ]
  },
  {
   "cell_type": "code",
   "execution_count": 54,
   "metadata": {},
   "outputs": [
    {
     "name": "stdout",
     "output_type": "stream",
     "text": [
      "call center can handle these leads\n"
     ]
    }
   ],
   "source": [
    "Vol = np.sum(df.AcceptedBid == 1) # Note 2\n",
    "LeadVolume(Vol)"
   ]
  },
  {
   "cell_type": "code",
   "execution_count": 44,
   "metadata": {},
   "outputs": [],
   "source": [
    "NetRev = df.TotalRev - df.BidPrice\n",
    "\n",
    "df['NetRev'] = NetRev.where(df.AcceptedBid == 1, other=0)"
   ]
  },
  {
   "cell_type": "code",
   "execution_count": 45,
   "metadata": {},
   "outputs": [],
   "source": [
    "Sum = np.sum(df.NetRev)"
   ]
  },
  {
   "cell_type": "code",
   "execution_count": 48,
   "metadata": {},
   "outputs": [
    {
     "name": "stdout",
     "output_type": "stream",
     "text": [
      "Net revenue for the file for the bids that are accepted : 1207654.0432900002\n"
     ]
    }
   ],
   "source": [
    "#Sanity Check\n",
    "print(\"Net revenue for the file for the bids that are accepted : \" + str (np.sum(df.NetRev)))"
   ]
  },
  {
   "cell_type": "code",
   "execution_count": null,
   "metadata": {},
   "outputs": [],
   "source": [
    "# Using Simple Model\n",
    "def SimpleModel (x, y): # x - Expected revenue, y - Expected conversion rate, bid - bid price. \n",
    "    if x*y > 100:\n",
    "        bid =75\n",
    "    elif x*y > 75:\n",
    "        bid=50\n",
    "    elif x*y > 50:\n",
    "        bid = 35\n",
    "    elif x*y > 20 :\n",
    "        bid =3\n",
    "    else:\n",
    "        bid = 0\n",
    "    return bid "
   ]
  },
  {
   "cell_type": "code",
   "execution_count": 56,
   "metadata": {},
   "outputs": [],
   "source": [
    "# Considering only two columns\n",
    "\n",
    "df['bidCal'] = df.apply(lambda row: SimpleModel(row['ExpectedRevenue'], row['ExpectedConversion']), axis=1)"
   ]
  },
  {
   "cell_type": "code",
   "execution_count": 60,
   "metadata": {},
   "outputs": [],
   "source": [
    "match = len(df['bidCal']==df['BidPrice'])"
   ]
  },
  {
   "cell_type": "code",
   "execution_count": 61,
   "metadata": {},
   "outputs": [],
   "source": [
    "totalVal= len(df)"
   ]
  },
  {
   "cell_type": "code",
   "execution_count": 63,
   "metadata": {},
   "outputs": [
    {
     "name": "stdout",
     "output_type": "stream",
     "text": [
      "Accuracy using simple Model is : 100.0\n"
     ]
    }
   ],
   "source": [
    "print('Accuracy using simple Model is : ' + str(match*100/totalVal))"
   ]
  },
  {
   "cell_type": "code",
   "execution_count": 71,
   "metadata": {},
   "outputs": [
    {
     "data": {
      "text/plain": [
       "BidPrice\n",
       "0.0          0.00000\n",
       "3.0      35952.39241\n",
       "35.0    450096.18723\n",
       "50.0     49774.68369\n",
       "75.0    671830.77996\n",
       "Name: NetRev, dtype: float64"
      ]
     },
     "execution_count": 71,
     "metadata": {},
     "output_type": "execute_result"
    }
   ],
   "source": [
    "df.groupby(['BidPrice'])['NetRev'].sum()"
   ]
  },
  {
   "cell_type": "code",
   "execution_count": 81,
   "metadata": {},
   "outputs": [
    {
     "name": "stdout",
     "output_type": "stream",
     "text": [
      "   BidPrice        NetRev\n",
      "0       0.0       0.00000\n",
      "1       3.0   35952.39241\n",
      "2      35.0  450096.18723\n",
      "3      50.0   49774.68369\n",
      "4      75.0  671830.77996\n"
     ]
    }
   ],
   "source": [
    "df2 = df.groupby(['BidPrice'], as_index = False).agg({'NetRev':'sum'})\n",
    "            \n",
    "\n",
    "print (df2)"
   ]
  },
  {
   "cell_type": "code",
   "execution_count": 82,
   "metadata": {},
   "outputs": [
    {
     "data": {
      "image/png": "[encoded data removed]",
      "text/plain": [
       "<Figure size 432x288 with 1 Axes>"
      ]
     },
     "metadata": {},
     "output_type": "display_data"
    }
   ],
   "source": [
    "import matplotlib.pyplot as plt\n",
    "plt.pie(df2['NetRev'], labels=df2['BidPrice'], autopct='%0.2f%%', shadow=False)\n",
    "plt.axis('equal')\n",
    "from matplotlib import rcParams\n",
    "plt.title('Contribution of each bid towards Net Revenue')\n",
    "rcParams['axes.titlepad'] = 30\n",
    "plt.show()"
   ]
  },
  {
   "cell_type": "markdown",
   "metadata": {},
   "source": [
    "# Machine Learning"
   ]
  },
  {
   "cell_type": "code",
   "execution_count": 83,
   "metadata": {},
   "outputs": [],
   "source": [
    "from pandas import set_option\n",
    "from pandas.plotting import scatter_matrix\n",
    "from sklearn.preprocessing import StandardScaler\n",
    "from sklearn.model_selection import train_test_split\n",
    "from sklearn.model_selection import KFold\n",
    "from sklearn.model_selection import cross_val_score\n",
    "from sklearn.model_selection import GridSearchCV\n",
    "from sklearn.linear_model import LinearRegression\n",
    "from sklearn.linear_model import Lasso\n",
    "from sklearn.linear_model import ElasticNet\n",
    "from sklearn.tree import DecisionTreeRegressor\n",
    "from sklearn.neighbors import KNeighborsRegressor\n",
    "from sklearn.svm import SVR\n",
    "from sklearn.pipeline import Pipeline\n",
    "from sklearn.ensemble import RandomForestRegressor\n",
    "from sklearn.ensemble import GradientBoostingRegressor\n",
    "from sklearn.ensemble import ExtraTreesRegressor\n",
    "from sklearn.ensemble import AdaBoostRegressor\n",
    "from sklearn.metrics import mean_squared_error\n"
   ]
  },
  {
   "cell_type": "code",
   "execution_count": 118,
   "metadata": {},
   "outputs": [],
   "source": [
    "y1  = df['BidPrice'].astype('category')"
   ]
  },
  {
   "cell_type": "code",
   "execution_count": 119,
   "metadata": {},
   "outputs": [],
   "source": [
    "x = df[['ExpectedRevenue', 'AcceptedBid', 'ExpectedConversion']]"
   ]
  },
  {
   "cell_type": "code",
   "execution_count": 120,
   "metadata": {},
   "outputs": [
    {
     "name": "stdout",
     "output_type": "stream",
     "text": [
      "0         0.0\n",
      "1         0.0\n",
      "2         0.0\n",
      "3         0.0\n",
      "4         0.0\n",
      "         ... \n",
      "53945     0.0\n",
      "53946    75.0\n",
      "53947     0.0\n",
      "53948     0.0\n",
      "53949     0.0\n",
      "Name: BidPrice, Length: 53950, dtype: category\n",
      "Categories (5, float64): [0.0, 3.0, 35.0, 50.0, 75.0]\n"
     ]
    }
   ],
   "source": [
    "print(y1)"
   ]
  },
  {
   "cell_type": "code",
   "execution_count": 121,
   "metadata": {},
   "outputs": [
    {
     "data": {
      "text/html": [
       "<div>\n",
       "<style scoped>\n",
       "    .dataframe tbody tr th:only-of-type {\n",
       "        vertical-align: middle;\n",
       "    }\n",
       "\n",
       "    .dataframe tbody tr th {\n",
       "        vertical-align: top;\n",
       "    }\n",
       "\n",
       "    .dataframe thead th {\n",
       "        text-align: right;\n",
       "    }\n",
       "</style>\n",
       "<table border=\"1\" class=\"dataframe\">\n",
       "  <thead>\n",
       "    <tr style=\"text-align: right;\">\n",
       "      <th></th>\n",
       "      <th>ExpectedRevenue</th>\n",
       "      <th>AcceptedBid</th>\n",
       "      <th>ExpectedConversion</th>\n",
       "    </tr>\n",
       "  </thead>\n",
       "  <tbody>\n",
       "    <tr>\n",
       "      <th>0</th>\n",
       "      <td>-106.80</td>\n",
       "      <td>0</td>\n",
       "      <td>0.336</td>\n",
       "    </tr>\n",
       "    <tr>\n",
       "      <th>1</th>\n",
       "      <td>-43.12</td>\n",
       "      <td>0</td>\n",
       "      <td>0.219</td>\n",
       "    </tr>\n",
       "    <tr>\n",
       "      <th>2</th>\n",
       "      <td>-90.56</td>\n",
       "      <td>0</td>\n",
       "      <td>0.332</td>\n",
       "    </tr>\n",
       "    <tr>\n",
       "      <th>3</th>\n",
       "      <td>-82.08</td>\n",
       "      <td>0</td>\n",
       "      <td>0.308</td>\n",
       "    </tr>\n",
       "    <tr>\n",
       "      <th>4</th>\n",
       "      <td>94.88</td>\n",
       "      <td>0</td>\n",
       "      <td>0.321</td>\n",
       "    </tr>\n",
       "  </tbody>\n",
       "</table>\n",
       "</div>"
      ],
      "text/plain": [
       "   ExpectedRevenue  AcceptedBid  ExpectedConversion\n",
       "0          -106.80            0               0.336\n",
       "1           -43.12            0               0.219\n",
       "2           -90.56            0               0.332\n",
       "3           -82.08            0               0.308\n",
       "4            94.88            0               0.321"
      ]
     },
     "execution_count": 121,
     "metadata": {},
     "output_type": "execute_result"
    }
   ],
   "source": [
    "x.head()"
   ]
  },
  {
   "cell_type": "code",
   "execution_count": 122,
   "metadata": {},
   "outputs": [],
   "source": [
    "Scoring = 'neg_mean_squared_error'\n",
    "num_folds =10\n",
    "seed =7"
   ]
  },
  {
   "cell_type": "code",
   "execution_count": 123,
   "metadata": {},
   "outputs": [
    {
     "name": "stdout",
     "output_type": "stream",
     "text": [
      "(43160, 3) (43160,)\n",
      "(10790, 3) (10790,)\n"
     ]
    }
   ],
   "source": [
    "Xtrain, Xtest, Ytrain, Ytest = train_test_split(x, y1, test_size = 0.2\n",
    "                                                    ,random_state = 0)\n",
    "print (Xtrain.shape, Ytrain.shape)\n",
    "print (Xtest.shape, Ytest.shape)"
   ]
  },
  {
   "cell_type": "code",
   "execution_count": 124,
   "metadata": {},
   "outputs": [],
   "source": [
    "# Spot Check Algorithms\n",
    "algos = []\n",
    "algos.append(('LR', LinearRegression()))\n",
    "algos.append(('LASSO', Lasso()))\n",
    "algos.append(('EN', ElasticNet()))\n",
    "algos.append(('KNN', KNeighborsRegressor()))\n",
    "algos.append(('CART', DecisionTreeRegressor()))\n",
    "algos.append(('SVR', SVR()))"
   ]
  },
  {
   "cell_type": "code",
   "execution_count": 125,
   "metadata": {},
   "outputs": [
    {
     "name": "stderr",
     "output_type": "stream",
     "text": [
      "C:\\Users\\saika\\anaconda3\\lib\\site-packages\\sklearn\\model_selection\\_split.py:296: FutureWarning: Setting a random_state has no effect since shuffle is False. This will raise an error in 0.24. You should leave random_state to its default (None), or set shuffle=True.\n",
      "  FutureWarning\n",
      "C:\\Users\\saika\\anaconda3\\lib\\site-packages\\sklearn\\model_selection\\_split.py:296: FutureWarning: Setting a random_state has no effect since shuffle is False. This will raise an error in 0.24. You should leave random_state to its default (None), or set shuffle=True.\n",
      "  FutureWarning\n",
      "C:\\Users\\saika\\anaconda3\\lib\\site-packages\\sklearn\\model_selection\\_split.py:296: FutureWarning: Setting a random_state has no effect since shuffle is False. This will raise an error in 0.24. You should leave random_state to its default (None), or set shuffle=True.\n",
      "  FutureWarning\n"
     ]
    },
    {
     "name": "stdout",
     "output_type": "stream",
     "text": [
      "LR: -95.330506 (3.924091)\n",
      "LASSO: -113.258998 (4.128357)\n",
      "EN: -131.272910 (4.327601)\n"
     ]
    },
    {
     "name": "stderr",
     "output_type": "stream",
     "text": [
      "C:\\Users\\saika\\anaconda3\\lib\\site-packages\\sklearn\\model_selection\\_split.py:296: FutureWarning: Setting a random_state has no effect since shuffle is False. This will raise an error in 0.24. You should leave random_state to its default (None), or set shuffle=True.\n",
      "  FutureWarning\n"
     ]
    },
    {
     "name": "stdout",
     "output_type": "stream",
     "text": [
      "KNN: -72.643917 (4.866427)\n"
     ]
    },
    {
     "name": "stderr",
     "output_type": "stream",
     "text": [
      "C:\\Users\\saika\\anaconda3\\lib\\site-packages\\sklearn\\model_selection\\_split.py:296: FutureWarning: Setting a random_state has no effect since shuffle is False. This will raise an error in 0.24. You should leave random_state to its default (None), or set shuffle=True.\n",
      "  FutureWarning\n"
     ]
    },
    {
     "name": "stdout",
     "output_type": "stream",
     "text": [
      "CART: -89.089742 (6.582132)\n"
     ]
    },
    {
     "name": "stderr",
     "output_type": "stream",
     "text": [
      "C:\\Users\\saika\\anaconda3\\lib\\site-packages\\sklearn\\model_selection\\_split.py:296: FutureWarning: Setting a random_state has no effect since shuffle is False. This will raise an error in 0.24. You should leave random_state to its default (None), or set shuffle=True.\n",
      "  FutureWarning\n"
     ]
    },
    {
     "name": "stdout",
     "output_type": "stream",
     "text": [
      "SVR: -111.868294 (5.460349)\n"
     ]
    }
   ],
   "source": [
    "# evaluate each model in turn\n",
    "out = []\n",
    "Names = []\n",
    "for Name, algo in algos:\n",
    "\tkfold = KFold(n_splits=num_folds, random_state=seed)\n",
    "\tcv_results = cross_val_score(algo, Xtrain, Ytrain, cv=kfold, scoring=Scoring)\n",
    "\tout.append(cv_results)\n",
    "\tNames.append(Name)\n",
    "\tMsg = \"%s: %f (%f)\" % (Name, cv_results.mean(), cv_results.std())\n",
    "\tprint(Msg)"
   ]
  },
  {
   "cell_type": "code",
   "execution_count": 127,
   "metadata": {},
   "outputs": [
    {
     "name": "stdout",
     "output_type": "stream",
     "text": [
      "LR: -95.330506 (3.924091)\n",
      "ScaledLASSO: -97.586693 (4.212281)\n",
      "EN: -132.418304 (5.517964)\n"
     ]
    },
    {
     "name": "stderr",
     "output_type": "stream",
     "text": [
      "C:\\Users\\saika\\anaconda3\\lib\\site-packages\\sklearn\\model_selection\\_split.py:296: FutureWarning: Setting a random_state has no effect since shuffle is False. This will raise an error in 0.24. You should leave random_state to its default (None), or set shuffle=True.\n",
      "  FutureWarning\n",
      "C:\\Users\\saika\\anaconda3\\lib\\site-packages\\sklearn\\model_selection\\_split.py:296: FutureWarning: Setting a random_state has no effect since shuffle is False. This will raise an error in 0.24. You should leave random_state to its default (None), or set shuffle=True.\n",
      "  FutureWarning\n",
      "C:\\Users\\saika\\anaconda3\\lib\\site-packages\\sklearn\\model_selection\\_split.py:296: FutureWarning: Setting a random_state has no effect since shuffle is False. This will raise an error in 0.24. You should leave random_state to its default (None), or set shuffle=True.\n",
      "  FutureWarning\n"
     ]
    },
    {
     "name": "stdout",
     "output_type": "stream",
     "text": [
      "KNN: -52.619854 (3.027024)\n"
     ]
    },
    {
     "name": "stderr",
     "output_type": "stream",
     "text": [
      "C:\\Users\\saika\\anaconda3\\lib\\site-packages\\sklearn\\model_selection\\_split.py:296: FutureWarning: Setting a random_state has no effect since shuffle is False. This will raise an error in 0.24. You should leave random_state to its default (None), or set shuffle=True.\n",
      "  FutureWarning\n"
     ]
    },
    {
     "name": "stdout",
     "output_type": "stream",
     "text": [
      "CART: -89.194787 (6.258591)\n"
     ]
    },
    {
     "name": "stderr",
     "output_type": "stream",
     "text": [
      "C:\\Users\\saika\\anaconda3\\lib\\site-packages\\sklearn\\model_selection\\_split.py:296: FutureWarning: Setting a random_state has no effect since shuffle is False. This will raise an error in 0.24. You should leave random_state to its default (None), or set shuffle=True.\n",
      "  FutureWarning\n"
     ]
    },
    {
     "name": "stdout",
     "output_type": "stream",
     "text": [
      "SVR: -65.905860 (5.063589)\n"
     ]
    }
   ],
   "source": [
    "# Standardize the dataset\n",
    "Pipelines = []\n",
    "Pipelines.append(('LR', Pipeline([('Scaler', StandardScaler()),('LR', LinearRegression())])))\n",
    "Pipelines.append(('ScaledLASSO', Pipeline([('Scaler', StandardScaler()),('LASSO', Lasso())])))\n",
    "Pipelines.append(('EN', Pipeline([('Scaler', StandardScaler()),('EN', ElasticNet())])))\n",
    "Pipelines.append(('KNN', Pipeline([('Scaler', StandardScaler()),('KNN', KNeighborsRegressor())])))\n",
    "Pipelines.append(('CART', Pipeline([('Scaler', StandardScaler()),('CART', DecisionTreeRegressor())])))\n",
    "Pipelines.append(('SVR', Pipeline([('Scaler', StandardScaler()),('SVR', SVR())])))\n",
    "out = []\n",
    "Names = []\n",
    "for Name, algos in Pipelines:\n",
    "\tkfold = KFold(n_splits=num_folds, random_state=seed)\n",
    "\tcv_results = cross_val_score(algos, Xtrain, Ytrain, cv=kfold, scoring=Scoring)\n",
    "\tout.append(cv_results)\n",
    "\tNames.append(Name)\n",
    "\tmsg = \"%s: %f (%f)\" % (Name, cv_results.mean(), cv_results.std())\n",
    "\tprint(msg)"
   ]
  },
  {
   "cell_type": "code",
   "execution_count": 129,
   "metadata": {},
   "outputs": [
    {
     "data": {
      "image/png": "[encoded data removed]",
      "text/plain": [
       "<Figure size 432x288 with 1 Axes>"
      ]
     },
     "metadata": {
      "needs_background": "light"
     },
     "output_type": "display_data"
    }
   ],
   "source": [
    "# Compare Algorithms\n",
    "fig = plt.figure()\n",
    "fig.suptitle('Scaled Algorithm Comparison')\n",
    "ax = fig.add_subplot(111)\n",
    "plt.boxplot(out)\n",
    "ax.set_xticklabels(Names)\n",
    "plt.show()"
   ]
  },
  {
   "cell_type": "code",
   "execution_count": null,
   "metadata": {},
   "outputs": [],
   "source": []
  }
 ],
 "metadata": {
  "kernelspec": {
   "display_name": "Python 3",
   "language": "python",
   "name": "python3"
  },
  "language_info": {
   "codemirror_mode": {
    "name": "ipython",
    "version": 3
   },
   "file_extension": ".py",
   "mimetype": "text/x-python",
   "name": "python",
   "nbconvert_exporter": "python",
   "pygments_lexer": "ipython3",
   "version": "3.7.6"
  }
 },
 "nbformat": 4,
 "nbformat_minor": 4
}
