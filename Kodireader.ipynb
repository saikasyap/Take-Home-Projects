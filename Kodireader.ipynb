{
 "cells": [
  {
   "cell_type": "code",
   "execution_count": 1,
   "metadata": {},
   "outputs": [],
   "source": [
    "#1 Write a function that takes string as input and returns count of each character in a dictionary.\n",
    "def strcount(str1):\n",
    "    res = {}\n",
    "    for keys in str1:\n",
    "            res[keys] = res.get(keys, 0) + 1\n",
    "    \n",
    "    return(str(res))\n"
   ]
  },
  {
   "cell_type": "code",
   "execution_count": 2,
   "metadata": {},
   "outputs": [
    {
     "name": "stdout",
     "output_type": "stream",
     "text": [
      "{'S': 1, 'm': 3, 'a': 3, 'r': 3, 't': 4, ' ': 5, 'O': 1, 'p': 2, 'e': 2, 'i': 2, 'o': 3, 'n': 2, 's': 1, '&': 1, 'E': 1, 'd': 1, 'g': 2, 'C': 1, 'u': 1, 'P': 1, 'l': 1, 'f': 1}\n"
     ]
    }
   ],
   "source": [
    "k1 = strcount(\"Smart Operations & Edge Computing Platform\")\n",
    "print(k1)"
   ]
  },
  {
   "cell_type": "code",
   "execution_count": null,
   "metadata": {},
   "outputs": [],
   "source": []
  },
  {
   "cell_type": "code",
   "execution_count": null,
   "metadata": {},
   "outputs": [],
   "source": []
  },
  {
   "cell_type": "code",
   "execution_count": 41,
   "metadata": {},
   "outputs": [],
   "source": [
    "#2Write a function to print following series. Function should take an integer representing the number of lines as input \n",
    "\n",
    "obj = {\n",
    " \"India\" : {\n",
    " \"Karnataka\" : [\"Bangalore\", \"Mysore\"],\n",
    " \"Maharashtra\" : [\"Mumbai\", \"Pune\"]\n",
    " },\n",
    " \"USA\" : {\n",
    " \"Texas\" : [\"Dallas\", \"Houston\"],\n",
    " \"IL\" : [\"Chicago\", \"Aurora\", \"Pune\"]\n",
    " }\n",
    "}"
   ]
  },
  {
   "cell_type": "code",
   "execution_count": 48,
   "metadata": {},
   "outputs": [
    {
     "name": "stderr",
     "output_type": "stream",
     "text": [
      "C:\\Users\\saika\\anaconda3\\lib\\site-packages\\ipykernel_launcher.py:1: DeprecationWarning: Using or importing the ABCs from 'collections' instead of from 'collections.abc' is deprecated since Python 3.3,and in 3.9 it will stop working\n",
      "  \"\"\"Entry point for launching an IPython kernel.\n"
     ]
    }
   ],
   "source": [
    "from collections import MutableMapping \n",
    "\n",
    "def convert_flatten(d, parent_key ='', sep ='_'): \n",
    "    items = [] \n",
    "    for k, v in d.items(): \n",
    "        new_key = parent_key + sep + k if parent_key else k \n",
    "  \n",
    "        if isinstance(v, MutableMapping): \n",
    "            items.extend(convert_flatten(v, new_key, sep = sep).items()) \n",
    "        else: \n",
    "            items.append((new_key, v)) \n",
    "    return dict(items) "
   ]
  },
  {
   "cell_type": "code",
   "execution_count": 49,
   "metadata": {},
   "outputs": [
    {
     "name": "stdout",
     "output_type": "stream",
     "text": [
      "final_dictionary {'India_Karnataka': ['Bangalore', 'Mysore'], 'India_Maharashtra': ['Mumbai', 'Pune'], 'USA_Texas': ['Dallas', 'Houston'], 'USA_IL': ['Chicago', 'Aurora', 'Pune']}\n"
     ]
    }
   ],
   "source": [
    "print (\"final_dictionary\", str(convert_flatten(obj))) \n"
   ]
  },
  {
   "cell_type": "code",
   "execution_count": 59,
   "metadata": {},
   "outputs": [],
   "source": [
    "final = convert_flatten(obj)"
   ]
  },
  {
   "cell_type": "code",
   "execution_count": 62,
   "metadata": {},
   "outputs": [
    {
     "name": "stdout",
     "output_type": "stream",
     "text": [
      "{'India_Karnataka': ['Bangalore', 'Mysore'], 'India_Maharashtra': ['Mumbai', 'Pune'], 'USA_Texas': ['Dallas', 'Houston'], 'USA_IL': ['Chicago', 'Aurora', 'Pune']}\n"
     ]
    }
   ],
   "source": [
    "print(final)"
   ]
  },
  {
   "cell_type": "code",
   "execution_count": 60,
   "metadata": {},
   "outputs": [],
   "source": [
    "def get_key(val): \n",
    "    for key, value in final.items(): \n",
    "         if val == value: \n",
    "             return key \n",
    "  \n",
    "    return \"key doesn't exist\""
   ]
  },
  {
   "cell_type": "code",
   "execution_count": 61,
   "metadata": {},
   "outputs": [
    {
     "data": {
      "text/plain": [
       "\"key doesn't exist\""
      ]
     },
     "execution_count": 61,
     "metadata": {},
     "output_type": "execute_result"
    }
   ],
   "source": [
    "get_key('Pune')"
   ]
  },
  {
   "cell_type": "code",
   "execution_count": 37,
   "metadata": {},
   "outputs": [],
   "source": [
    "def nestedDict(strInp):\n",
    "    obj = {\"India\" : {\"Karnataka\" : [\"Bangalore\", \"Mysore\"],\n",
    "     \"Maharashtra\" : [\"Mumbai\", \"Pune\"]\n",
    "     },\n",
    "     \"USA\" : {\"Texas\" : [\"Dallas\", \"Houston\"],\n",
    "     \"IL\" : [\"Chicago\", \"Aurora\", \"Pune\"]\n",
    "     }\n",
    "    }\n",
    "    \n",
    "    res1 = obj.get('India', {}).get('Maharashtra')\n",
    "   # res2 = obj.get('USA', {}).get(strInp)\n",
    "    return res1"
   ]
  },
  {
   "cell_type": "code",
   "execution_count": 38,
   "metadata": {},
   "outputs": [
    {
     "name": "stdout",
     "output_type": "stream",
     "text": [
      "['Mumbai', 'Pune']\n"
     ]
    }
   ],
   "source": [
    "k2= nestedDict(\"Karnataka\")\n",
    "print(k2)"
   ]
  },
  {
   "cell_type": "code",
   "execution_count": null,
   "metadata": {},
   "outputs": [],
   "source": []
  },
  {
   "cell_type": "code",
   "execution_count": null,
   "metadata": {},
   "outputs": [],
   "source": [
    "#Write a function that takes 3 inputs – height, width and maximum allowed dimension.\n",
    "#Maximum allowed dimension is the upper limit of the height and width that shouldn’t be\n",
    "#crossed. The function should return new height and width using maximum allowed\n",
    "#dimension while maintaining aspect ratio. If the input dimensions are smaller than maximum\n",
    "#allowed dimensions return the values as it is else return the resized dimensions."
   ]
  },
  {
   "cell_type": "code",
   "execution_count": 24,
   "metadata": {},
   "outputs": [],
   "source": [
    "def aspectRatio(h,w,m):\n",
    "    ratio = w/h\n",
    "    if h > m:\n",
    "        h=m\n",
    "        w = h*ratio\n",
    "        \n",
    "    if w >m:\n",
    "        w= m\n",
    "        h = w/ratio\n",
    "        \n",
    "    return round(h),round(w) \n",
    "    "
   ]
  },
  {
   "cell_type": "code",
   "execution_count": 25,
   "metadata": {},
   "outputs": [
    {
     "name": "stdout",
     "output_type": "stream",
     "text": [
      "667\n",
      "1000\n"
     ]
    }
   ],
   "source": [
    "\n",
    "h , w = aspectRatio(800,1200,1000)\n",
    "print (h)\n",
    "print(w)"
   ]
  },
  {
   "cell_type": "markdown",
   "metadata": {},
   "source": [
    "# Q2 logic : starts with zero,\n",
    "Next line first number = last number of previous line +1\n",
    "second number in the line = first num +3,\n",
    "third num = second +1\n",
    "fourth num = third +1\n",
    "etc...\n"
   ]
  },
  {
   "cell_type": "code",
   "execution_count": null,
   "metadata": {},
   "outputs": [],
   "source": []
  },
  {
   "cell_type": "code",
   "execution_count": null,
   "metadata": {},
   "outputs": [],
   "source": []
  },
  {
   "cell_type": "code",
   "execution_count": null,
   "metadata": {},
   "outputs": [],
   "source": []
  },
  {
   "cell_type": "code",
   "execution_count": null,
   "metadata": {},
   "outputs": [],
   "source": []
  },
  {
   "cell_type": "markdown",
   "metadata": {},
   "source": [
    "# q5 : I would consider models like Deep learning models like BiLSTM / text CNN/ Transfer Learning models , ML models like XGBOOST for doing text classification. Performance metrics would be Confusion matrix metrics such as Accuracy. If data is imbalanced for multiclassification i would use something like roc or a recall as performance metric. If there is large amounts of text data then i would go for DL models mentioned else ML models would be good enough after applying word2vec.  \n",
    "# Even regression metrics like R2, MSE can also be applied if needed apart from confusion matrix metrics. \n"
   ]
  },
  {
   "cell_type": "code",
   "execution_count": null,
   "metadata": {},
   "outputs": [],
   "source": []
  },
  {
   "cell_type": "code",
   "execution_count": null,
   "metadata": {},
   "outputs": [],
   "source": []
  },
  {
   "cell_type": "code",
   "execution_count": null,
   "metadata": {},
   "outputs": [],
   "source": []
  }
 ],
 "metadata": {
  "kernelspec": {
   "display_name": "Python 3",
   "language": "python",
   "name": "python3"
  },
  "language_info": {
   "codemirror_mode": {
    "name": "ipython",
    "version": 3
   },
   "file_extension": ".py",
   "mimetype": "text/x-python",
   "name": "python",
   "nbconvert_exporter": "python",
   "pygments_lexer": "ipython3",
   "version": "3.7.8"
  }
 },
 "nbformat": 4,
 "nbformat_minor": 4
}
